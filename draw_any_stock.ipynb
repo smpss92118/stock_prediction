{
 "cells": [
  {
   "cell_type": "code",
   "execution_count": 368,
   "metadata": {},
   "outputs": [],
   "source": [
    "# basic\n",
    "import numpy as np\n",
    "import pandas as pd\n",
    "\n",
    "# get data\n",
    "import pandas_datareader as pdr\n",
    "\n",
    "# visual\n",
    "import matplotlib.pyplot as plt\n",
    "import mpl_finance as mpf\n",
    "%matplotlib inline\n",
    "import seaborn as sns\n",
    "\n",
    "#time\n",
    "import datetime\n",
    "from datetime import datetime\n",
    "from datetime import date\n",
    "from dateutil.relativedelta import relativedelta\n",
    "\n",
    "\n",
    "#talib\n",
    "import talib\n",
    "\n",
    "import warnings\n",
    "warnings.filterwarnings(\"ignore\")"
   ]
  },
  {
   "cell_type": "code",
   "execution_count": 405,
   "metadata": {},
   "outputs": [],
   "source": [
    "start = datetime(2019,1,1)\n",
    "df_2330 = pdr.DataReader('AAPL', 'yahoo', start=start)\n"
   ]
  },
  {
   "cell_type": "code",
   "execution_count": 371,
   "metadata": {},
   "outputs": [],
   "source": [
    "def week_data(Data):\n",
    "    Data.index = pd.to_datetime(Data.index)\n",
    "    period_week_data = Data.resample('W').last()\n",
    "    period_week_data['Open'] = Data['Open'].resample('W').first()\n",
    "    period_week_data['High'] = Data['High'].resample('W').max()\n",
    "    # 最低价\n",
    "    period_week_data['Low'] = Data['Low'].resample('W').min()\n",
    "    # 成交量 这一周的每天成交量的和\n",
    "    period_week_data['Volume'] = Data['Volume'].resample('W').sum()\n",
    "    period_week_data\n",
    "    #return period_week_data\n",
    "    sma_50 = talib.SMA(np.array(Data['Close']), 6)\n",
    "    sma_150 = talib.SMA(np.array(Data['Close']), 20)\n",
    "    sma_200 = talib.SMA(np.array(Data['Close']), 52)\n",
    "    \n",
    "    return period_week_data\n"
   ]
  },
  {
   "cell_type": "code",
   "execution_count": 372,
   "metadata": {},
   "outputs": [],
   "source": [
    "def month_data(Data):\n",
    "    Data.index = pd.to_datetime(Data.index)\n",
    "    period_week_data = Data.resample('M').last()\n",
    "    period_week_data['Open'] = Data['Open'].resample('M').first()\n",
    "    period_week_data['High'] = Data['High'].resample('M').max()\n",
    "    # 最低价\n",
    "    period_week_data['Low'] = Data['Low'].resample('M').min()\n",
    "    # 成交量 这一周的每天成交量的和\n",
    "    period_week_data['Volume'] = Data['Volume'].resample('M').sum()\n",
    "    #return period_week_data\n",
    "    sma_50 = talib.SMA(np.array(Data['Close']), 3)\n",
    "    sma_150 = talib.SMA(np.array(Data['Close']), 12)\n",
    "    sma_200 = talib.SMA(np.array(Data['Close']), 20)\n",
    "    \n",
    "    return period_week_data\n"
   ]
  },
  {
   "cell_type": "code",
   "execution_count": 373,
   "metadata": {},
   "outputs": [],
   "source": [
    "def day_chart(Data):\n",
    "    sma_50 = talib.SMA(np.array(Data['Close']), 5)\n",
    "    sma_150 = talib.SMA(np.array(Data['Close']), 15)\n",
    "    sma_200 = talib.SMA(np.array(Data['Close']), 20)\n",
    "\n",
    "    fig = plt.figure(figsize=(24, 15))\n",
    "    ax = fig.add_axes([0,0.2,1,0.5])\n",
    "    ax2 = fig.add_axes([0,0,1,0.2])\n",
    "    ax.set_xticks(range(0, len(Data.index), 10))\n",
    "    ax.set_xticklabels(Data.index[::10])\n",
    "    mpf.candlestick2_ochl(ax, Data['Open'], Data['Close'], Data['High'],\n",
    "                      Data['Low'], width=0.6, colorup='r', colordown='g', alpha=0.75)\n",
    "    plt.rcParams['font.sans-serif']=['Microsoft JhengHei'] \n",
    "    ax.plot(sma_50, label='50日均線')\n",
    "    ax.plot(sma_150, label='150日均線')\n",
    "    ax.plot(sma_200, label='200日均線')\n",
    "    \n",
    "    mpf.volume_overlay(ax2, Data['Open'], Data['Close'], Data['Volume'], colorup='r', colordown='g', width=0.5, alpha=0.8)\n",
    "    ax2.set_xticks(range(0, len(Data.index), 10))\n",
    "    ax2.set_xticklabels(Data.index[::10])\n",
    "    \n",
    "    \n",
    "    H_line,M_line,L_line=talib.BBANDS(Data.Close, timeperiod=5, nbdevup=2, nbdevdn=2, matype=0)\n",
    "    df1=pd.DataFrame(Data.Close,index=Data.index,columns=['Close'])\n",
    "    df1['H_line']=H_line\n",
    "    df1['M_line']=M_line\n",
    "    df1['L_line']=L_line\n",
    "    df1.tail()\n",
    "    df1.plot(figsize=(16,6))\n",
    "    ax3 = plt.gca() \n",
    "    ax3.spines['right'].set_color('none') \n",
    "    ax3.spines['top'].set_color('none')\n",
    "    plt.title('BB',fontsize=15) \n",
    "    plt.xlabel('') \n",
    "\n",
    "    ax.legend();"
   ]
  },
  {
   "cell_type": "code",
   "execution_count": 374,
   "metadata": {},
   "outputs": [],
   "source": [
    "def week_chart(Data):\n",
    "    Data = week_data(Data)\n",
    "    sma_50 = talib.SMA(np.array(Data['Close']), 6)\n",
    "    sma_150 = talib.SMA(np.array(Data['Close']), 20)\n",
    "    sma_200 = talib.SMA(np.array(Data['Close']), 52)\n",
    "    fig = plt.figure(figsize=(24, 15))\n",
    "    ax = fig.add_axes([0,0.2,1,0.5])\n",
    "    ax2 = fig.add_axes([0,0,1,0.2])\n",
    "    ax.set_xticks(range(0, len(Data.index), 10))\n",
    "    ax.set_xticklabels(Data.index[::10])\n",
    "    mpf.candlestick2_ochl(ax, Data['Open'], Data['Close'], Data['High'],\n",
    "                      Data['Low'], width=0.6, colorup='r', colordown='g', alpha=0.75)\n",
    "    plt.rcParams['font.sans-serif']=['Microsoft JhengHei'] \n",
    "    ax.plot(sma_50, label='6週均線')\n",
    "    ax.plot(sma_150, label='20週均線')\n",
    "    ax.plot(sma_200, label='52週均線')\n",
    "    \n",
    "    mpf.volume_overlay(ax2, Data['Open'], Data['Close'], Data['Volume'], colorup='r', colordown='g', width=0.5, alpha=0.8)\n",
    "    ax2.set_xticks(range(0, len(Data.index), 10))\n",
    "    ax2.set_xticklabels(Data.index[::10])\n",
    "    \n",
    "    \n",
    "    H_line,M_line,L_line=talib.BBANDS(Data.Close, timeperiod=5, nbdevup=2, nbdevdn=2, matype=0)\n",
    "    df1=pd.DataFrame(Data.Close,index=Data.index,columns=['Close'])\n",
    "    df1['H_line']=H_line\n",
    "    df1['M_line']=M_line\n",
    "    df1['L_line']=L_line\n",
    "    df1.tail()\n",
    "    df1.plot(figsize=(16,6))\n",
    "    ax3 = plt.gca() \n",
    "    ax3.spines['right'].set_color('none') \n",
    "    ax3.spines['top'].set_color('none')\n",
    "    plt.title('BB',fontsize=15) \n",
    "    plt.xlabel('') \n",
    "\n",
    "    ax.legend();"
   ]
  },
  {
   "cell_type": "code",
   "execution_count": 375,
   "metadata": {},
   "outputs": [],
   "source": [
    "def month_chart(Data):\n",
    "    Data = month_data(Data)\n",
    "    sma_50 = talib.SMA(np.array(Data['Close']), 3)\n",
    "    sma_150 = talib.SMA(np.array(Data['Close']), 12)\n",
    "    sma_200 = talib.SMA(np.array(Data['Close']), 20)\n",
    "    fig = plt.figure(figsize=(24, 15))\n",
    "    ax = fig.add_axes([0,0.2,1,0.5])\n",
    "    #ax = fig.add_axes([0,0,1,0.2])\n",
    "    ax2 = fig.add_axes([0,0,1,0.2])\n",
    "    ax.set_xticks(range(0, len(Data.index), 10))\n",
    "    ax.set_xticklabels(Data.index[::10])\n",
    "    mpf.candlestick2_ochl(ax, Data['Open'], Data['Close'], Data['High'],\n",
    "                      Data['Low'], width=0.6, colorup='r', colordown='g', alpha=0.75)\n",
    "    plt.rcParams['font.sans-serif']=['Microsoft JhengHei'] \n",
    "    ax.plot(sma_50, label='3月均線')\n",
    "    ax.plot(sma_150, label='12月均線')\n",
    "    ax.plot(sma_200, label='20月均線')\n",
    "    \n",
    "    mpf.volume_overlay(ax2, Data['Open'], Data['Close'], Data['Volume'], colorup='r', colordown='g', width=0.5, alpha=0.8)\n",
    "    ax2.set_xticks(range(0, len(Data.index), 10))\n",
    "    ax2.set_xticklabels(Data.index[::10])\n",
    "    \n",
    "    \n",
    "    H_line,M_line,L_line=talib.BBANDS(Data.Close, timeperiod=3, nbdevup=2, nbdevdn=2, matype=0)\n",
    "    df1=pd.DataFrame(Data.Close,index=Data.index,columns=['Close'])\n",
    "    df1['H_line']=H_line\n",
    "    df1['M_line']=M_line\n",
    "    df1['L_line']=L_line\n",
    "    df1.tail()\n",
    "    df1.plot(figsize=(16,6))\n",
    "    ax3 = plt.gca() \n",
    "    ax3.spines['right'].set_color('none') \n",
    "    ax3.spines['top'].set_color('none')\n",
    "    plt.title('BB',fontsize=15) \n",
    "    plt.xlabel('') \n",
    "\n",
    "    ax.legend();"
   ]
  },
  {
   "cell_type": "code",
   "execution_count": 376,
   "metadata": {},
   "outputs": [],
   "source": [
    "def all_chart(stock):\n",
    "    a = datetime.now()\n",
    "    #from dateutil.relativedelta import relativedelta\n",
    "    b = a - relativedelta(months=6)\n",
    "    now = datetime.now()\n",
    "    day_start = now - relativedelta(month =2)\n",
    "    week_start = now - relativedelta(years = 2)\n",
    "    month_start = now - relativedelta(years=4)\n",
    "    day_stock = pdr.DataReader(stock, 'yahoo', start=b)\n",
    "    week_stock = pdr.DataReader(stock, 'yahoo', start=week_start)\n",
    "    month_stock = pdr.DataReader(stock, 'yahoo', start=month_start)\n",
    "    day_chart(day_stock)\n",
    "    week_chart(week_stock)\n",
    "    month_chart(month_stock)\n",
    "    "
   ]
  },
  {
   "cell_type": "code",
   "execution_count": 425,
   "metadata": {},
   "outputs": [],
   "source": [
    "#all_chart('AAPL')"
   ]
  },
  {
   "cell_type": "code",
   "execution_count": 378,
   "metadata": {},
   "outputs": [],
   "source": [
    "#多個股票一次抓去\n",
    "#start = datetime.datetime(2015,1,5)\n",
    "#campany = ['2492.TW', '2330.TW', '3045.TW', '2412.TW', '2409.TW']\n",
    "#df_stock = pdr.DataReader(campany, 'yahoo', start=start)"
   ]
  },
  {
   "cell_type": "code",
   "execution_count": 408,
   "metadata": {},
   "outputs": [],
   "source": [
    "#start = datetime(2020,10,5)\n",
    "#df_stock = pdr.DataReader(all_symbol_list, 'yahoo', start=start)"
   ]
  },
  {
   "cell_type": "code",
   "execution_count": 423,
   "metadata": {},
   "outputs": [],
   "source": [
    "import pandas as pd\n",
    "table=pd.read_html('https://en.wikipedia.org/wiki/List_of_S%26P_500_companies')\n",
    "df = table[0]"
   ]
  },
  {
   "cell_type": "code",
   "execution_count": null,
   "metadata": {},
   "outputs": [],
   "source": []
  },
  {
   "cell_type": "code",
   "execution_count": null,
   "metadata": {},
   "outputs": [],
   "source": []
  }
 ],
 "metadata": {
  "kernelspec": {
   "display_name": "Python 3",
   "language": "python",
   "name": "python3"
  },
  "language_info": {
   "codemirror_mode": {
    "name": "ipython",
    "version": 3
   },
   "file_extension": ".py",
   "mimetype": "text/x-python",
   "name": "python",
   "nbconvert_exporter": "python",
   "pygments_lexer": "ipython3",
   "version": "3.7.3"
  }
 },
 "nbformat": 4,
 "nbformat_minor": 4
}
