{
 "cells": [
  {
   "cell_type": "code",
   "execution_count": 1,
   "metadata": {},
   "outputs": [],
   "source": [
    "import numpy as np \n",
    "import pandas as pd\n",
    "import matplotlib.pyplot as plt \n",
    "import seaborn as sns \n",
    "%matplotlib inline\n",
    "sns.set()\n",
    "from sklearn.ensemble import RandomForestClassifier\n",
    "from sklearn.model_selection import cross_val_score, StratifiedKFold, learning_curve, train_test_split\n",
    "from sklearn.preprocessing import OneHotEncoder, LabelEncoder, MinMaxScaler, StandardScaler\n",
    "from sklearn.feature_selection import RFECV\n",
    "from sklearn.metrics import confusion_matrix, classification_report\n",
    "from sklearn.utils import shuffle\n",
    "# loading data\n",
    "df_train = pd.read_csv(\"2-1.csv\")\n",
    "df_test = pd.read_csv(\"2-2.csv\")\n",
    "df_data = df_train.append(df_test)"
   ]
  },
  {
   "cell_type": "code",
   "execution_count": 2,
   "metadata": {},
   "outputs": [],
   "source": [
    "df_data = shuffle(df_data)\n",
    "df_data = df_data.reset_index()\n",
    "del df_data['index']\n"
   ]
  },
  {
   "cell_type": "code",
   "execution_count": 3,
   "metadata": {},
   "outputs": [],
   "source": [
    "#cut data\n",
    "df_train = df_data.loc[:159]\n",
    "df_test = df_data.loc[160:]"
   ]
  },
  {
   "cell_type": "code",
   "execution_count": 4,
   "metadata": {},
   "outputs": [
    {
     "name": "stdout",
     "output_type": "stream",
     "text": [
      "(160, 202)\n",
      "(22, 202)\n"
     ]
    }
   ],
   "source": [
    "print(df_train.shape)\n",
    "print(df_test.shape)"
   ]
  },
  {
   "cell_type": "code",
   "execution_count": 5,
   "metadata": {},
   "outputs": [
    {
     "data": {
      "text/html": [
       "<div>\n",
       "<style scoped>\n",
       "    .dataframe tbody tr th:only-of-type {\n",
       "        vertical-align: middle;\n",
       "    }\n",
       "\n",
       "    .dataframe tbody tr th {\n",
       "        vertical-align: top;\n",
       "    }\n",
       "\n",
       "    .dataframe thead th {\n",
       "        text-align: right;\n",
       "    }\n",
       "</style>\n",
       "<table border=\"1\" class=\"dataframe\">\n",
       "  <thead>\n",
       "    <tr style=\"text-align: right;\">\n",
       "      <th></th>\n",
       "      <th>代號</th>\n",
       "      <th>一個月累計漲跌幅</th>\n",
       "      <th>1</th>\n",
       "      <th>2</th>\n",
       "      <th>3</th>\n",
       "      <th>4</th>\n",
       "      <th>5</th>\n",
       "      <th>6</th>\n",
       "      <th>7</th>\n",
       "      <th>8</th>\n",
       "      <th>...</th>\n",
       "      <th>193</th>\n",
       "      <th>194</th>\n",
       "      <th>195</th>\n",
       "      <th>196</th>\n",
       "      <th>197</th>\n",
       "      <th>198</th>\n",
       "      <th>199</th>\n",
       "      <th>200</th>\n",
       "      <th>201</th>\n",
       "      <th>202</th>\n",
       "    </tr>\n",
       "  </thead>\n",
       "  <tbody>\n",
       "    <tr>\n",
       "      <th>0</th>\n",
       "      <td>3014</td>\n",
       "      <td>4.70</td>\n",
       "      <td>16.10</td>\n",
       "      <td>118.00</td>\n",
       "      <td>16.10</td>\n",
       "      <td>24.2</td>\n",
       "      <td>17.8</td>\n",
       "      <td>13.90</td>\n",
       "      <td>17.50</td>\n",
       "      <td>10.80</td>\n",
       "      <td>...</td>\n",
       "      <td>2.90</td>\n",
       "      <td>4567</td>\n",
       "      <td>7517↘</td>\n",
       "      <td>5555↘</td>\n",
       "      <td>4774↗</td>\n",
       "      <td>0.0052</td>\n",
       "      <td>0.0213</td>\n",
       "      <td>0.0544</td>\n",
       "      <td>0.1460</td>\n",
       "      <td>0.3580</td>\n",
       "    </tr>\n",
       "    <tr>\n",
       "      <th>1</th>\n",
       "      <td>6187</td>\n",
       "      <td>14.10</td>\n",
       "      <td>8.33</td>\n",
       "      <td>49.30</td>\n",
       "      <td>8.33</td>\n",
       "      <td>24.2</td>\n",
       "      <td>17.9</td>\n",
       "      <td>17.20</td>\n",
       "      <td>22.70</td>\n",
       "      <td>12.30</td>\n",
       "      <td>...</td>\n",
       "      <td>6.78</td>\n",
       "      <td>1536</td>\n",
       "      <td>4833↘</td>\n",
       "      <td>5122↘</td>\n",
       "      <td>5709↘</td>\n",
       "      <td>-0.0491</td>\n",
       "      <td>-0.0476</td>\n",
       "      <td>0.0263</td>\n",
       "      <td>0.2250</td>\n",
       "      <td>0.3510</td>\n",
       "    </tr>\n",
       "    <tr>\n",
       "      <th>2</th>\n",
       "      <td>2456</td>\n",
       "      <td>16.60</td>\n",
       "      <td>25.50</td>\n",
       "      <td>264.00</td>\n",
       "      <td>25.50</td>\n",
       "      <td>48.0</td>\n",
       "      <td>18.9</td>\n",
       "      <td>13.60</td>\n",
       "      <td>20.40</td>\n",
       "      <td>9.87</td>\n",
       "      <td>...</td>\n",
       "      <td>2.71</td>\n",
       "      <td>8314</td>\n",
       "      <td>14896↗</td>\n",
       "      <td>10575↗</td>\n",
       "      <td>7122↗</td>\n",
       "      <td>-0.0038</td>\n",
       "      <td>0.0488</td>\n",
       "      <td>0.0926</td>\n",
       "      <td>0.0847</td>\n",
       "      <td>0.0539</td>\n",
       "    </tr>\n",
       "    <tr>\n",
       "      <th>3</th>\n",
       "      <td>1101</td>\n",
       "      <td>3.45</td>\n",
       "      <td>567.00</td>\n",
       "      <td>2542.00</td>\n",
       "      <td>547.00</td>\n",
       "      <td>69.6</td>\n",
       "      <td>58.5</td>\n",
       "      <td>13.50</td>\n",
       "      <td>15.50</td>\n",
       "      <td>11.30</td>\n",
       "      <td>...</td>\n",
       "      <td>0.39</td>\n",
       "      <td>32520</td>\n",
       "      <td>33153↗</td>\n",
       "      <td>24103↗</td>\n",
       "      <td>21549↗</td>\n",
       "      <td>-0.0056</td>\n",
       "      <td>0.0119</td>\n",
       "      <td>0.0219</td>\n",
       "      <td>0.0559</td>\n",
       "      <td>0.0902</td>\n",
       "    </tr>\n",
       "    <tr>\n",
       "      <th>4</th>\n",
       "      <td>8101</td>\n",
       "      <td>-2.07</td>\n",
       "      <td>20.80</td>\n",
       "      <td>7.87</td>\n",
       "      <td>20.80</td>\n",
       "      <td>21.0</td>\n",
       "      <td>16.1</td>\n",
       "      <td>-2.19</td>\n",
       "      <td>-3.48</td>\n",
       "      <td>-1.57</td>\n",
       "      <td>...</td>\n",
       "      <td>0.10</td>\n",
       "      <td>254</td>\n",
       "      <td>272↗</td>\n",
       "      <td>236↗</td>\n",
       "      <td>218↗</td>\n",
       "      <td>-0.0042</td>\n",
       "      <td>-0.0071</td>\n",
       "      <td>-0.0142</td>\n",
       "      <td>-0.0479</td>\n",
       "      <td>-0.1440</td>\n",
       "    </tr>\n",
       "    <tr>\n",
       "      <th>...</th>\n",
       "      <td>...</td>\n",
       "      <td>...</td>\n",
       "      <td>...</td>\n",
       "      <td>...</td>\n",
       "      <td>...</td>\n",
       "      <td>...</td>\n",
       "      <td>...</td>\n",
       "      <td>...</td>\n",
       "      <td>...</td>\n",
       "      <td>...</td>\n",
       "      <td>...</td>\n",
       "      <td>...</td>\n",
       "      <td>...</td>\n",
       "      <td>...</td>\n",
       "      <td>...</td>\n",
       "      <td>...</td>\n",
       "      <td>...</td>\n",
       "      <td>...</td>\n",
       "      <td>...</td>\n",
       "      <td>...</td>\n",
       "      <td>...</td>\n",
       "    </tr>\n",
       "    <tr>\n",
       "      <th>177</th>\n",
       "      <td>5205</td>\n",
       "      <td>-27.40</td>\n",
       "      <td>1.80</td>\n",
       "      <td>1.39</td>\n",
       "      <td>1.80</td>\n",
       "      <td>30.7</td>\n",
       "      <td>19.2</td>\n",
       "      <td>-18.60</td>\n",
       "      <td>-27.50</td>\n",
       "      <td>-12.00</td>\n",
       "      <td>...</td>\n",
       "      <td>0.01</td>\n",
       "      <td>5</td>\n",
       "      <td>2↘</td>\n",
       "      <td>2.88↗</td>\n",
       "      <td>2.76↗</td>\n",
       "      <td>-0.0082</td>\n",
       "      <td>0.0096</td>\n",
       "      <td>0.0058</td>\n",
       "      <td>-0.0703</td>\n",
       "      <td>-0.0179</td>\n",
       "    </tr>\n",
       "    <tr>\n",
       "      <th>178</th>\n",
       "      <td>2227</td>\n",
       "      <td>4.07</td>\n",
       "      <td>30.00</td>\n",
       "      <td>843.00</td>\n",
       "      <td>30.00</td>\n",
       "      <td>16.8</td>\n",
       "      <td>15.6</td>\n",
       "      <td>12.80</td>\n",
       "      <td>15.40</td>\n",
       "      <td>10.50</td>\n",
       "      <td>...</td>\n",
       "      <td>0.06</td>\n",
       "      <td>583</td>\n",
       "      <td>310↗</td>\n",
       "      <td>282↗</td>\n",
       "      <td>184↗</td>\n",
       "      <td>0.0061</td>\n",
       "      <td>0.0108</td>\n",
       "      <td>0.0230</td>\n",
       "      <td>0.0392</td>\n",
       "      <td>0.0984</td>\n",
       "    </tr>\n",
       "    <tr>\n",
       "      <th>179</th>\n",
       "      <td>3339</td>\n",
       "      <td>-1.16</td>\n",
       "      <td>9.62</td>\n",
       "      <td>4.11</td>\n",
       "      <td>9.62</td>\n",
       "      <td>20.2</td>\n",
       "      <td>14.1</td>\n",
       "      <td>-2.72</td>\n",
       "      <td>-4.47</td>\n",
       "      <td>-1.80</td>\n",
       "      <td>...</td>\n",
       "      <td>0.35</td>\n",
       "      <td>54</td>\n",
       "      <td>181↘</td>\n",
       "      <td>162↘</td>\n",
       "      <td>337↘</td>\n",
       "      <td>0.0196</td>\n",
       "      <td>0.0991</td>\n",
       "      <td>0.0260</td>\n",
       "      <td>0.2730</td>\n",
       "      <td>0.2560</td>\n",
       "    </tr>\n",
       "    <tr>\n",
       "      <th>180</th>\n",
       "      <td>8444</td>\n",
       "      <td>15.80</td>\n",
       "      <td>8.48</td>\n",
       "      <td>61.00</td>\n",
       "      <td>8.48</td>\n",
       "      <td>9.6</td>\n",
       "      <td>4.8</td>\n",
       "      <td>37.30</td>\n",
       "      <td>49.10</td>\n",
       "      <td>25.80</td>\n",
       "      <td>...</td>\n",
       "      <td>0.04</td>\n",
       "      <td>35</td>\n",
       "      <td>26.4↗</td>\n",
       "      <td>22.6↗</td>\n",
       "      <td>29.6↘</td>\n",
       "      <td>0.0053</td>\n",
       "      <td>0.0161</td>\n",
       "      <td>0.0193</td>\n",
       "      <td>0.1930</td>\n",
       "      <td>0.3280</td>\n",
       "    </tr>\n",
       "    <tr>\n",
       "      <th>181</th>\n",
       "      <td>2855</td>\n",
       "      <td>7.46</td>\n",
       "      <td>137.00</td>\n",
       "      <td>218.00</td>\n",
       "      <td>137.00</td>\n",
       "      <td>31.7</td>\n",
       "      <td>17.9</td>\n",
       "      <td>11.50</td>\n",
       "      <td>13.20</td>\n",
       "      <td>9.49</td>\n",
       "      <td>...</td>\n",
       "      <td>0.68</td>\n",
       "      <td>7128</td>\n",
       "      <td>12666↘</td>\n",
       "      <td>12685↘</td>\n",
       "      <td>9660↗</td>\n",
       "      <td>-0.0031</td>\n",
       "      <td>-0.0066</td>\n",
       "      <td>0.0146</td>\n",
       "      <td>0.1030</td>\n",
       "      <td>0.1600</td>\n",
       "    </tr>\n",
       "  </tbody>\n",
       "</table>\n",
       "<p>182 rows × 202 columns</p>\n",
       "</div>"
      ],
      "text/plain": [
       "       代號  一個月累計漲跌幅       1        2       3     4     5      6      7      8  \\\n",
       "0    3014      4.70   16.10   118.00   16.10  24.2  17.8  13.90  17.50  10.80   \n",
       "1    6187     14.10    8.33    49.30    8.33  24.2  17.9  17.20  22.70  12.30   \n",
       "2    2456     16.60   25.50   264.00   25.50  48.0  18.9  13.60  20.40   9.87   \n",
       "3    1101      3.45  567.00  2542.00  547.00  69.6  58.5  13.50  15.50  11.30   \n",
       "4    8101     -2.07   20.80     7.87   20.80  21.0  16.1  -2.19  -3.48  -1.57   \n",
       "..    ...       ...     ...      ...     ...   ...   ...    ...    ...    ...   \n",
       "177  5205    -27.40    1.80     1.39    1.80  30.7  19.2 -18.60 -27.50 -12.00   \n",
       "178  2227      4.07   30.00   843.00   30.00  16.8  15.6  12.80  15.40  10.50   \n",
       "179  3339     -1.16    9.62     4.11    9.62  20.2  14.1  -2.72  -4.47  -1.80   \n",
       "180  8444     15.80    8.48    61.00    8.48   9.6   4.8  37.30  49.10  25.80   \n",
       "181  2855      7.46  137.00   218.00  137.00  31.7  17.9  11.50  13.20   9.49   \n",
       "\n",
       "     ...   193    194     195     196     197     198     199     200     201  \\\n",
       "0    ...  2.90   4567   7517↘   5555↘   4774↗  0.0052  0.0213  0.0544  0.1460   \n",
       "1    ...  6.78   1536   4833↘   5122↘   5709↘ -0.0491 -0.0476  0.0263  0.2250   \n",
       "2    ...  2.71   8314  14896↗  10575↗   7122↗ -0.0038  0.0488  0.0926  0.0847   \n",
       "3    ...  0.39  32520  33153↗  24103↗  21549↗ -0.0056  0.0119  0.0219  0.0559   \n",
       "4    ...  0.10    254    272↗    236↗    218↗ -0.0042 -0.0071 -0.0142 -0.0479   \n",
       "..   ...   ...    ...     ...     ...     ...     ...     ...     ...     ...   \n",
       "177  ...  0.01      5      2↘   2.88↗   2.76↗ -0.0082  0.0096  0.0058 -0.0703   \n",
       "178  ...  0.06    583    310↗    282↗    184↗  0.0061  0.0108  0.0230  0.0392   \n",
       "179  ...  0.35     54    181↘    162↘    337↘  0.0196  0.0991  0.0260  0.2730   \n",
       "180  ...  0.04     35   26.4↗   22.6↗   29.6↘  0.0053  0.0161  0.0193  0.1930   \n",
       "181  ...  0.68   7128  12666↘  12685↘   9660↗ -0.0031 -0.0066  0.0146  0.1030   \n",
       "\n",
       "        202  \n",
       "0    0.3580  \n",
       "1    0.3510  \n",
       "2    0.0539  \n",
       "3    0.0902  \n",
       "4   -0.1440  \n",
       "..      ...  \n",
       "177 -0.0179  \n",
       "178  0.0984  \n",
       "179  0.2560  \n",
       "180  0.3280  \n",
       "181  0.1600  \n",
       "\n",
       "[182 rows x 202 columns]"
      ]
     },
     "execution_count": 5,
     "metadata": {},
     "output_type": "execute_result"
    }
   ],
   "source": [
    "df_data"
   ]
  },
  {
   "cell_type": "code",
   "execution_count": 6,
   "metadata": {},
   "outputs": [],
   "source": [
    "#create rise_fall\n",
    "df_data['rise_fall'] = (df_data['一個月累計漲跌幅']).map(lambda x : 1 if x >= 0 else 0)"
   ]
  },
  {
   "cell_type": "code",
   "execution_count": 7,
   "metadata": {},
   "outputs": [
    {
     "name": "stdout",
     "output_type": "stream",
     "text": [
      "14 20M07\n",
      "15 20Q2\n",
      "58 4.21↗\n",
      "59 3.57↗\n",
      "60 3.49↗\n",
      "73 20M07\n",
      "74 20Q2\n",
      "75 1高\n",
      "76 1高\n",
      "77 2高\n",
      "78 連5增\n",
      "159 20W32\n",
      "170 20M08\n",
      "183 73.12↗\n",
      "184 71.97↗\n",
      "185 69.71↗\n",
      "186 64.15↗\n",
      "187 54.14↗\n",
      "188 47.37↗\n",
      "195 7517↘\n",
      "196 5555↘\n",
      "197 4774↗\n"
     ]
    }
   ],
   "source": [
    "for a in df_data:\n",
    "    if type(df_data[a][0]) == str :\n",
    "        \n",
    "        print(f\"{a} {df_data[a][0]}\")"
   ]
  },
  {
   "cell_type": "code",
   "execution_count": 8,
   "metadata": {},
   "outputs": [],
   "source": [
    "#delete the feature which is not important\n",
    "del df_data['14']\n",
    "del df_data['15']\n",
    "del df_data['73']\n",
    "del df_data['74']\n",
    "del df_data['159']\n",
    "del df_data['170']"
   ]
  },
  {
   "cell_type": "code",
   "execution_count": 9,
   "metadata": {},
   "outputs": [
    {
     "name": "stdout",
     "output_type": "stream",
     "text": [
      "58 4.21↗\n",
      "59 3.57↗\n",
      "60 3.49↗\n",
      "75 1高\n",
      "76 1高\n",
      "77 2高\n",
      "78 連5增\n",
      "183 73.12↗\n",
      "184 71.97↗\n",
      "185 69.71↗\n",
      "186 64.15↗\n",
      "187 54.14↗\n",
      "188 47.37↗\n",
      "195 7517↘\n",
      "196 5555↘\n",
      "197 4774↗\n"
     ]
    }
   ],
   "source": [
    "for a in df_data:\n",
    "    if type(df_data[a][0]) == str :\n",
    "        \n",
    "        print(f\"{a} {df_data[a][0]}\")"
   ]
  },
  {
   "cell_type": "code",
   "execution_count": 10,
   "metadata": {},
   "outputs": [
    {
     "data": {
      "text/plain": [
       "'↗'"
      ]
     },
     "execution_count": 10,
     "metadata": {},
     "output_type": "execute_result"
    }
   ],
   "source": [
    "df_data['58'][0][-1:]"
   ]
  },
  {
   "cell_type": "code",
   "execution_count": 11,
   "metadata": {},
   "outputs": [],
   "source": [
    "#change str to float or int\n",
    "df_data['new_58'] = (df_data['58']).map(lambda x : float(x[:-1]) if x[-1:]=='↗' else float(x[:-1])*-1)\n",
    "del df_data['58']"
   ]
  },
  {
   "cell_type": "code",
   "execution_count": 12,
   "metadata": {},
   "outputs": [],
   "source": [
    "df_data['new_59'] = (df_data['59']).map(lambda x : float(x[:-1]) if x[-1:]=='↗' else float(x[:-1])*-1)\n",
    "del df_data['59']\n",
    "df_data['new_60'] = (df_data['60']).map(lambda x : float(x[:-1]) if x[-1:]=='↗' else float(x[:-1])*-1)\n",
    "del df_data['60']\n",
    "df_data['new_183'] = (df_data['183']).map(lambda x : float(x[:-1]) if x[-1:]=='↗' else float(x[:-1])*-1)\n",
    "del df_data['183']\n",
    "df_data['new_184'] = (df_data['184']).map(lambda x : float(x[:-1]) if x[-1:]=='↗' else float(x[:-1])*-1)\n",
    "del df_data['184']\n",
    "df_data['new_185'] = (df_data['185']).map(lambda x : float(x[:-1]) if x[-1:]=='↗' else float(x[:-1])*-1)\n",
    "del df_data['185']\n",
    "df_data['new_186'] = (df_data['186']).map(lambda x : float(x[:-1]) if x[-1:]=='↗' else float(x[:-1])*-1)\n",
    "del df_data['186']\n",
    "df_data['new_187'] = (df_data['187']).map(lambda x : float(x[:-1]) if x[-1:]=='↗' else float(x[:-1])*-1)\n",
    "del df_data['187']\n",
    "df_data['new_188'] = (df_data['188']).map(lambda x : float(x[:-1]) if x[-1:]=='↗' else float(x[:-1])*-1)\n",
    "del df_data['188']\n",
    "df_data['new_195'] = (df_data['195']).map(lambda x : float(x[:-1]) if x[-1:]=='↗' else float(x[:-1])*-1)\n",
    "del df_data['195']\n",
    "df_data['new_196'] = (df_data['196']).map(lambda x : float(x[:-1]) if x[-1:]=='↗' else float(x[:-1])*-1)\n",
    "del df_data['196']\n",
    "df_data['new_197'] = (df_data['197']).map(lambda x : float(x[:-1]) if x[-1:]=='↗' else float(x[:-1])*-1)\n",
    "del df_data['197']"
   ]
  },
  {
   "cell_type": "code",
   "execution_count": 13,
   "metadata": {},
   "outputs": [
    {
     "name": "stdout",
     "output_type": "stream",
     "text": [
      "75 1高\n",
      "76 1高\n",
      "77 2高\n",
      "78 連5增\n"
     ]
    }
   ],
   "source": [
    "for a in df_data:\n",
    "    if type(df_data[a][0]) == str :\n",
    "        \n",
    "        print(f\"{a} {df_data[a][0]}\")\n",
    "        \n"
   ]
  },
  {
   "cell_type": "code",
   "execution_count": null,
   "metadata": {},
   "outputs": [],
   "source": []
  },
  {
   "cell_type": "code",
   "execution_count": 14,
   "metadata": {},
   "outputs": [],
   "source": [
    "testdata = df_data.drop(labels=['75','76','77','78'],axis=1)"
   ]
  },
  {
   "cell_type": "code",
   "execution_count": 33,
   "metadata": {},
   "outputs": [],
   "source": [
    "#plt.figure(figsize=(100,100))\n",
    "#stock_corr = sns.heatmap(testdata.corr(),annot=True)"
   ]
  },
  {
   "cell_type": "code",
   "execution_count": 30,
   "metadata": {},
   "outputs": [],
   "source": [
    "S_C = testdata.corr()"
   ]
  },
  {
   "cell_type": "code",
   "execution_count": 32,
   "metadata": {},
   "outputs": [
    {
     "data": {
      "text/plain": [
       "代號          0.028036\n",
       "一個月累計漲跌幅    1.000000\n",
       "1           0.043806\n",
       "2           0.115353\n",
       "3           0.043972\n",
       "              ...   \n",
       "new_187     0.159200\n",
       "new_188     0.089813\n",
       "new_195     0.215237\n",
       "new_196     0.235496\n",
       "new_197     0.228004\n",
       "Name: 一個月累計漲跌幅, Length: 193, dtype: float64"
      ]
     },
     "execution_count": 32,
     "metadata": {},
     "output_type": "execute_result"
    }
   ],
   "source": [
    "S_C['一個月累計漲跌幅']"
   ]
  },
  {
   "cell_type": "code",
   "execution_count": 140,
   "metadata": {},
   "outputs": [],
   "source": [
    "def get_index(corrvalue):\n",
    "    output = []\n",
    "    for index, value in S_C['一個月累計漲跌幅'].items():\n",
    "        if abs(value) >=corrvalue:\n",
    "            output.append(index)\n",
    "    return output\n"
   ]
  },
  {
   "cell_type": "code",
   "execution_count": 141,
   "metadata": {},
   "outputs": [],
   "source": [
    "#find NaN\n",
    "x =testdata.isnull().any()\n",
    "IND = []\n",
    "for index, value in x.items():\n",
    "    if value==True:\n",
    "        #print(f\"Index : {index}, Value : {value}\")\n",
    "        IND.append(index)"
   ]
  },
  {
   "cell_type": "code",
   "execution_count": 142,
   "metadata": {},
   "outputs": [],
   "source": [
    "for I in IND:\n",
    "    testdata[I] = testdata[I].fillna(testdata[I].median())#把NaN用中位數取代"
   ]
  },
  {
   "cell_type": "code",
   "execution_count": 171,
   "metadata": {},
   "outputs": [],
   "source": [
    "val_arr = {0.1,0.2,0.3,0.4,0.5,0.6}"
   ]
  },
  {
   "cell_type": "code",
   "execution_count": 172,
   "metadata": {},
   "outputs": [
    {
     "data": {
      "text/plain": [
       "['一個月累計漲跌幅', '99', '200', '201']"
      ]
     },
     "execution_count": 172,
     "metadata": {},
     "output_type": "execute_result"
    }
   ],
   "source": [
    "test_index = get_index(0.7)\n",
    "corr_data = testdata[test_index]\n",
    "test_index"
   ]
  },
  {
   "cell_type": "code",
   "execution_count": 173,
   "metadata": {},
   "outputs": [],
   "source": [
    "def run_sklearn(val_arr,data):\n",
    "    for x in val_arr:\n",
    "        corr_index = get_index(x)\n",
    "        corr_data = data[corr_index]\n",
    "        df_train = corr_data.loc[:150]\n",
    "        df_test = corr_data.loc[151:]\n",
    "        X = df_train.drop(labels=['rise_fall','一個月累計漲跌幅'],axis=1)\n",
    "        Y = df_train['rise_fall']\n",
    "        Base_Model = RandomForestClassifier(random_state=2,n_estimators=250,min_samples_split=22,oob_score=True)\n",
    "        Base_Model.fit(X, Y)\n",
    "        print('Base oob score :%.5f' %(Base_Model.oob_score_),'   LB_Public : 0.77751')\n",
    "        "
   ]
  },
  {
   "cell_type": "code",
   "execution_count": 174,
   "metadata": {},
   "outputs": [
    {
     "name": "stdout",
     "output_type": "stream",
     "text": [
      "Base oob score :0.97351    LB_Public : 0.77751\n",
      "Base oob score :0.99338    LB_Public : 0.77751\n",
      "Base oob score :0.99338    LB_Public : 0.77751\n",
      "Base oob score :0.98675    LB_Public : 0.77751\n",
      "Base oob score :0.99338    LB_Public : 0.77751\n",
      "Base oob score :0.98675    LB_Public : 0.77751\n"
     ]
    }
   ],
   "source": [
    "run_sklearn(val_arr,testdata)"
   ]
  },
  {
   "cell_type": "code",
   "execution_count": null,
   "metadata": {},
   "outputs": [],
   "source": []
  },
  {
   "cell_type": "code",
   "execution_count": 175,
   "metadata": {},
   "outputs": [],
   "source": [
    "#cut data\n",
    "df_train = testdata.loc[:150]\n",
    "df_test = testdata.loc[151:]"
   ]
  },
  {
   "cell_type": "code",
   "execution_count": 413,
   "metadata": {},
   "outputs": [],
   "source": [
    "X = df_train.drop(labels=['代號','rise_fall','一個月累計漲跌幅'],axis=1)\n",
    "Y = df_train['rise_fall']"
   ]
  },
  {
   "cell_type": "code",
   "execution_count": 414,
   "metadata": {},
   "outputs": [
    {
     "name": "stdout",
     "output_type": "stream",
     "text": [
      "Base oob score :0.95364    LB_Public : 0.77751\n"
     ]
    }
   ],
   "source": [
    "Base_Model = RandomForestClassifier(random_state=2,n_estimators=250,min_samples_split=22,oob_score=True)\n",
    "Base_Model.fit(X, Y)\n",
    "print('Base oob score :%.5f' %(Base_Model.oob_score_),'   LB_Public : 0.77751')"
   ]
  },
  {
   "cell_type": "code",
   "execution_count": 415,
   "metadata": {},
   "outputs": [],
   "source": [
    "X_Submit = df_test.drop(labels=['代號','rise_fall','一個月累計漲跌幅'],axis=1)\n",
    "\n",
    "Base_pred = Base_Model.predict(X_Submit)\n",
    "\n",
    "submit = pd.DataFrame({\"代號\": df_test['代號'],\n",
    "                      \"rise_fall\":Base_pred.astype(int)})\n"
   ]
  },
  {
   "cell_type": "markdown",
   "metadata": {},
   "source": [
    "### 上面是對漲跌做預測,再來是對漲跌幅度做預測\n",
    "---"
   ]
  },
  {
   "cell_type": "code",
   "execution_count": 73,
   "metadata": {},
   "outputs": [],
   "source": [
    "updown = testdata.drop(labels=['rise_fall'],axis=1)"
   ]
  },
  {
   "cell_type": "code",
   "execution_count": 74,
   "metadata": {},
   "outputs": [
    {
     "data": {
      "text/plain": [
       "59.8"
      ]
     },
     "execution_count": 74,
     "metadata": {},
     "output_type": "execute_result"
    }
   ],
   "source": [
    "max(updown['一個月累計漲跌幅'])"
   ]
  },
  {
   "cell_type": "code",
   "execution_count": 75,
   "metadata": {},
   "outputs": [
    {
     "data": {
      "text/plain": [
       "-35.2"
      ]
     },
     "execution_count": 75,
     "metadata": {},
     "output_type": "execute_result"
    }
   ],
   "source": [
    "min(updown['一個月累計漲跌幅'])"
   ]
  },
  {
   "cell_type": "code",
   "execution_count": 76,
   "metadata": {},
   "outputs": [],
   "source": [
    "updown['一個月累計漲跌幅'] = (updown['一個月累計漲跌幅']).map(lambda x : int(x/7))"
   ]
  },
  {
   "cell_type": "code",
   "execution_count": 77,
   "metadata": {},
   "outputs": [],
   "source": [
    "to_log_index = []\n",
    "for x in updown:\n",
    "    if max(updown[x])+abs(min(updown[x])) >=20:\n",
    "        to_log_index.append(x)\n",
    "\n",
    "    "
   ]
  },
  {
   "cell_type": "code",
   "execution_count": 78,
   "metadata": {},
   "outputs": [],
   "source": [
    "for x in to_log_index:\n",
    "    updown[x] = (updown[x]).map(lambda x : np.log10(x) if x > 0 else (-1*np.log10(abs(x)) if x<0 else 0))"
   ]
  },
  {
   "cell_type": "code",
   "execution_count": 91,
   "metadata": {},
   "outputs": [],
   "source": [
    "u_p = updown.corr()"
   ]
  },
  {
   "cell_type": "code",
   "execution_count": 148,
   "metadata": {},
   "outputs": [],
   "source": [
    "def up_index(corrvalue):\n",
    "    output = []\n",
    "    for index, value in u_p['一個月累計漲跌幅'].items():\n",
    "        if abs(value) >=corrvalue:\n",
    "            output.append(index)\n",
    "    return output"
   ]
  },
  {
   "cell_type": "code",
   "execution_count": null,
   "metadata": {},
   "outputs": [],
   "source": []
  },
  {
   "cell_type": "code",
   "execution_count": 155,
   "metadata": {},
   "outputs": [],
   "source": [
    "def updown_sklearn(val_arr,data):\n",
    "    for x in val_arr:\n",
    "        corr_index = up_index(x)\n",
    "        corr_data = data[corr_index]\n",
    "        df_train = corr_data.loc[:150]\n",
    "        df_test = corr_data.loc[151:]\n",
    "        X = df_train.drop(labels=['一個月累計漲跌幅'],axis=1)\n",
    "        Y = df_train['一個月累計漲跌幅']\n",
    "        Base_Model = RandomForestClassifier(random_state=2,n_estimators=950,min_samples_split=15,oob_score=True)\n",
    "        Base_Model.fit(X, Y.astype('int'))\n",
    "        print('Base oob score :%.5f' %(Base_Model.oob_score_),'   LB_Public : 0.77751', '%f' % x)\n",
    "    return Base_Model"
   ]
  },
  {
   "cell_type": "code",
   "execution_count": 176,
   "metadata": {},
   "outputs": [
    {
     "name": "stdout",
     "output_type": "stream",
     "text": [
      "Base oob score :0.61589    LB_Public : 0.77751 0.100000\n",
      "Base oob score :0.78808    LB_Public : 0.77751 0.400000\n",
      "Base oob score :0.76821    LB_Public : 0.77751 0.300000\n",
      "Base oob score :0.70199    LB_Public : 0.77751 0.200000\n",
      "Base oob score :0.84106    LB_Public : 0.77751 0.500000\n",
      "Base oob score :0.84106    LB_Public : 0.77751 0.600000\n"
     ]
    }
   ],
   "source": [
    "#final_model = updown_sklearn(val_arr,updown)"
   ]
  },
  {
   "cell_type": "code",
   "execution_count": 185,
   "metadata": {},
   "outputs": [
    {
     "name": "stdout",
     "output_type": "stream",
     "text": [
      "Base oob score :0.84106    LB_Public : 0.77751 0.500000\n"
     ]
    }
   ],
   "source": [
    "final_model = updown_sklearn({0.5},updown)"
   ]
  },
  {
   "cell_type": "code",
   "execution_count": 195,
   "metadata": {},
   "outputs": [],
   "source": [
    "corr_index = up_index(0.5)\n",
    "corr_data = updown[corr_index]\n",
    "df_train = corr_data.loc[:150]\n",
    "df_test = corr_data.loc[151:]"
   ]
  },
  {
   "cell_type": "code",
   "execution_count": 187,
   "metadata": {},
   "outputs": [],
   "source": [
    "X = df_train.drop(labels=['一個月累計漲跌幅'],axis=1)\n",
    "Y = df_train['一個月累計漲跌幅']"
   ]
  },
  {
   "cell_type": "code",
   "execution_count": 188,
   "metadata": {},
   "outputs": [
    {
     "name": "stdout",
     "output_type": "stream",
     "text": [
      "Base oob score :0.84106    LB_Public : 0.77751\n"
     ]
    }
   ],
   "source": [
    "ud_Model = RandomForestClassifier(random_state=2,n_estimators=950,min_samples_split=15,oob_score=True)\n",
    "ud_Model.fit(X, Y.astype('int'))\n",
    "print('Base oob score :%.5f' %(ud_Model.oob_score_),'   LB_Public : 0.77751')"
   ]
  },
  {
   "cell_type": "code",
   "execution_count": 189,
   "metadata": {},
   "outputs": [],
   "source": [
    "test_x = df_train.drop(labels=['一個月累計漲跌幅'],axis=1)\n",
    "test_y = df_train['一個月累計漲跌幅']"
   ]
  },
  {
   "cell_type": "code",
   "execution_count": 190,
   "metadata": {},
   "outputs": [
    {
     "name": "stdout",
     "output_type": "stream",
     "text": [
      "[ 0  1  2  0  0  0  0  0  3 -1  1  0  0  3  0  0  0  0 -1  0 -1  0  4  2\n",
      "  0  0  0  0  0  1  0  0  0  0 -1  0  0  2  0  0  0  0  0  1  2  4  1  0\n",
      "  4  0  1  1  0  4  4  0  1  4 -1  3  0  1  0  0 -2  1 -1  0  2  0  0  2\n",
      "  4  0  0  0  1 -1  0  0  3  4  1  1  3 -1  0  0 -1  0  0  0  0  0  0  2\n",
      "  1  0 -1  0  4 -1  2  1  0  3  0  1  0  0  1  0  1 -1  3  1  0  0  4  0\n",
      "  0  3  0  0  4  0  2  2  3  0  0  0  0  0  0  0  2  0 -1  3  1  3  1 -1\n",
      "  0  2  0 -1  0  0  0]\n"
     ]
    }
   ],
   "source": [
    "test_y_predicted = final_model.predict(test_x)\n",
    "print(test_y_predicted)\n"
   ]
  },
  {
   "cell_type": "code",
   "execution_count": 192,
   "metadata": {},
   "outputs": [
    {
     "name": "stdout",
     "output_type": "stream",
     "text": [
      "[0, 2, 2, 0, 0, 0, 0, -4, 3, -3, 1, 0, 0, 3, 0, 0, 0, 0, -1, 0, -1, 0, 4, 2, 0, 0, 0, 0, 0, 1, 0, 0, 0, 0, -1, 0, 0, 2, 0, 0, 0, 0, 0, 1, 2, 4, 1, 0, 4, 0, 1, 1, 0, 4, 8, 0, 1, 4, -1, 3, 0, 1, 0, 0, -2, 1, -1, 0, 2, 0, 0, 2, 7, 0, -2, -2, 1, -1, 0, 0, 3, 7, 5, 1, 3, -1, 0, 0, -1, 0, 0, -1, 0, 0, 0, 2, 1, 0, -3, 0, 4, -1, 2, 1, 0, 3, 0, 1, 0, 0, 1, 0, 1, -1, 3, 4, 0, 0, 8, 0, -5, 3, 0, 0, 4, 0, 2, 2, 3, 0, 0, 0, 0, 0, 0, 0, 2, 0, -4, 3, 1, 5, 1, -1, 0, 2, 0, -1, 0, 0, 0]\n"
     ]
    }
   ],
   "source": [
    "ans = []\n",
    "for x in test_y:\n",
    "    ans.append(x)\n",
    "print(ans)\n"
   ]
  },
  {
   "cell_type": "code",
   "execution_count": 193,
   "metadata": {},
   "outputs": [
    {
     "data": {
      "text/plain": [
       "0.8940397350993378"
      ]
     },
     "execution_count": 193,
     "metadata": {},
     "output_type": "execute_result"
    }
   ],
   "source": [
    "SS=0\n",
    "for s in range(0,151):\n",
    "    if test_y_predicted[s] == ans[s]:\n",
    "        SS +=1\n",
    "SS/151"
   ]
  }
 ],
 "metadata": {
  "kernelspec": {
   "display_name": "Python 3",
   "language": "python",
   "name": "python3"
  },
  "language_info": {
   "codemirror_mode": {
    "name": "ipython",
    "version": 3
   },
   "file_extension": ".py",
   "mimetype": "text/x-python",
   "name": "python",
   "nbconvert_exporter": "python",
   "pygments_lexer": "ipython3",
   "version": "3.7.3"
  }
 },
 "nbformat": 4,
 "nbformat_minor": 4
}
